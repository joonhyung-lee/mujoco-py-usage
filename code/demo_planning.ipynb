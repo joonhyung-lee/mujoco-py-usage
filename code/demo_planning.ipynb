{
 "cells": [
  {
   "attachments": {},
   "cell_type": "markdown",
   "metadata": {},
   "source": [
    "# Yet another `planning` tutorials"
   ]
  },
  {
   "cell_type": "markdown",
   "metadata": {},
   "source": [
    "This is Tutorial about `Robot path planning` methods. I will implement Dijkstra, A-star, RRT, Particle filters, and so on."
   ]
  },
  {
   "cell_type": "markdown",
   "metadata": {},
   "source": [
    "## Dijkstra"
   ]
  },
  {
   "cell_type": "code",
   "execution_count": 1,
   "metadata": {},
   "outputs": [],
   "source": [
    "import heapq\n",
    "\n",
    "def dijkstra(graph, start):\n",
    "    distances = {node: float('inf') for node in graph}\n",
    "    distances[start] = 0    # the start node is zero.\n",
    "\n",
    "    queue = []\n",
    "    heapq.heappush(queue, [distances[start], start])    # begin searching at start node.\n",
    "\n",
    "    while queue:\n",
    "        # pop at the most right ones.\n",
    "        curr_dist, curr_dest = heapq.heappop(queue)    # get node, distance\n",
    "\n",
    "        if distances[curr_dest] < curr_dist:    # if the destination dist is longer, no longer to search.\n",
    "            continue\n",
    "\n",
    "        for new_dest, new_dist in graph[curr_dest].items():\n",
    "            distance = curr_dist + new_dist     # the overall distance when pass this node.\n",
    "\n",
    "            if distance < distances[new_dest]:  # update when smaller than the known node distance.\n",
    "                distances[new_dest] = distance  \n",
    "                heapq.heappush(queue, [distance, new_dest]) # for calculate next nearset, push at queue\n",
    "    \n",
    "    return distances\n"
   ]
  },
  {
   "cell_type": "code",
   "execution_count": 2,
   "metadata": {},
   "outputs": [
    {
     "data": {
      "text/plain": [
       "{'A': {'B': 8, 'C': 1, 'D': 2},\n",
       " 'B': {},\n",
       " 'C': {'B': 5, 'D': 2},\n",
       " 'D': {'E': 3, 'F': 5},\n",
       " 'E': {'F': 1},\n",
       " 'F': {'A': 5}}"
      ]
     },
     "execution_count": 2,
     "metadata": {},
     "output_type": "execute_result"
    }
   ],
   "source": [
    "graph = {\n",
    "    'A': {'B': 8, 'C': 1, 'D': 2},\n",
    "    'B': {},\n",
    "    'C': {'B': 5, 'D': 2},\n",
    "    'D': {'E': 3, 'F': 5},\n",
    "    'E': {'F': 1},\n",
    "    'F': {'A': 5}\n",
    "}\n",
    "\n",
    "graph   # dict type"
   ]
  },
  {
   "cell_type": "code",
   "execution_count": 3,
   "metadata": {},
   "outputs": [
    {
     "data": {
      "text/plain": [
       "{'A': 0, 'B': 6, 'C': 1, 'D': 2, 'E': 5, 'F': 6}"
      ]
     },
     "execution_count": 3,
     "metadata": {},
     "output_type": "execute_result"
    }
   ],
   "source": [
    "dijkstra(graph, 'A')"
   ]
  },
  {
   "cell_type": "markdown",
   "metadata": {},
   "source": [
    "## A Star"
   ]
  },
  {
   "cell_type": "markdown",
   "metadata": {},
   "source": [
    "### `A star` pseudo code\n",
    "// A* (star) Pathfinding\n",
    "\n",
    "// Initialize both open and closed list\n",
    "let the openList equal empty list of nodes\n",
    "let the closedList equal empty list of nodes\n",
    "\n",
    "// Add the start node\n",
    "put the startNode on the openList (leave it's f at zero)\n",
    "\n",
    "// Loop until you find the end\n",
    "while the openList is not empty\n",
    "    \n",
    "    // Get the current node\n",
    "    let the currentNode equal the node with the least f value\n",
    "    remove the currentNode from the openList\n",
    "    add the currentNode to the closedList\n",
    "    \n",
    "    // Found the goal\n",
    "    if currentNode is the goal\n",
    "        Congratz! You've found the end! Backtrack to get path\n",
    "\n",
    "    // Generate children\n",
    "    let the children of the currentNode equal the adjacent nodes\n",
    "    \n",
    "    for each child in the children\n",
    "        // Child is on the closedList\n",
    "        if child is in the closedList\n",
    "            continue to beginning of for loop\n",
    "        // Create the f, g, and h values\n",
    "        child.g = currentNode.g + distance between child and current\n",
    "        child.h = distance from child to end\n",
    "        child.f = child.g + child.h\n",
    "        // Child is already in openList\n",
    "        if child.position is in the openList's nodes positions\n",
    "            if the child.g is higher than the openList node's g\n",
    "                continue to beginning of for loop\n",
    "        // Add the child to the openList\n",
    "        add the child to the openList"
   ]
  },
  {
   "cell_type": "code",
   "execution_count": 4,
   "metadata": {},
   "outputs": [],
   "source": [
    "import numpy as np\n",
    "\n",
    "class Node:\n",
    "    def __init__(self, parent=None, position=None):\n",
    "        self.parent = parent        # 이전 노드\n",
    "        self.position = position    # 현재 위치\n",
    "\n",
    "        self.f  = 0\n",
    "        self.g  = 0\n",
    "        self.h  = 0\n",
    "    \n",
    "    def __eq__(self, other):\n",
    "        return self.position == other.position\n"
   ]
  },
  {
   "cell_type": "code",
   "execution_count": 5,
   "metadata": {},
   "outputs": [],
   "source": [
    "def calculate_heuristic(curr_node, dest_node):\n",
    "    distance = np.sqrt((dest_node.position[0] - curr_node.position[0]) ** 2 + (dest_node.position[1] - curr_node.position[1]) ** 2)\n",
    "\n",
    "    return distance"
   ]
  },
  {
   "cell_type": "code",
   "execution_count": 6,
   "metadata": {},
   "outputs": [
    {
     "data": {
      "text/plain": [
       "5.0"
      ]
     },
     "execution_count": 6,
     "metadata": {},
     "output_type": "execute_result"
    }
   ],
   "source": [
    "start_node = Node(None, (0, 0))\n",
    "\n",
    "start_node.position\n",
    "\n",
    "end_node = Node(None, (3, 4))\n",
    "\n",
    "end_node.position\n",
    "\n",
    "calculate_heuristic(start_node, end_node)"
   ]
  },
  {
   "cell_type": "code",
   "execution_count": 8,
   "metadata": {},
   "outputs": [],
   "source": [
    "def astar(maze, start, end):\n",
    "    start_node  = Node(None, start) # start position: (x, y)\n",
    "    end_node    = Node(None, end)   # end position: (x, y)\n",
    "\n",
    "    openlist    = []\n",
    "    closedlist  = []\n",
    "\n",
    "    openlist.append(start_node)\n",
    "\n",
    "    while openlist:\n",
    "        # Initialize current node.\n",
    "        current_node    = openlist[0]\n",
    "        current_idx     = 0\n",
    "\n",
    "        for idx, item in enumerate(openlist):\n",
    "            # search openlist nodes that have minimum cost F.\n",
    "            if item.f < current_node.f:\n",
    "                current_node    = item\n",
    "                current_idx     = idx\n",
    "\n",
    "        # delete in openlist, and append in closedlist.\n",
    "        openlist.pop(current_idx)\n",
    "        closedlist.append(current_node)\n",
    "\n",
    "        # when the search is finished.\n",
    "        if current_node == end_node:\n",
    "            path = []\n",
    "            current = current_node\n",
    "\n",
    "            while current is not None:\n",
    "                path.append(current.position)\n",
    "                current = current.parent\n",
    "            return path[::-1]   # return reversed.\n",
    "\n",
    "        \n",
    "        # generate children\n",
    "        children = []\n",
    "\n",
    "        # Adjacent squares\n",
    "        for new_position in [(0, -1), (0, 1), (-1, 0), (1, 0), (-1, -1), (-1, 1), (1, -1), (1, 1)]: \n",
    "            # get node position\n",
    "            node_position = (current_node.position[0] + new_position[0], current_node.position[1] + new_position[1])\n",
    "\n",
    "            # check the position is within the maze.\n",
    "            if node_position[0] > (len(maze) - 1) or node_position[0] < 0 or node_position[1] > (len(maze[len(maze)-1]) -1) or node_position[1] < 0:\n",
    "                continue\n",
    "\n",
    "            # collision check.\n",
    "            if maze[node_position[0]][node_position[1]] != 0:\n",
    "                continue\n",
    "\n",
    "            new_node = Node(current_node, node_position)\n",
    "\n",
    "            # Append\n",
    "            children.append(new_node)\n",
    "\n",
    "        for child in children:\n",
    "            for closed_child in closedlist:\n",
    "                if child == closed_child:\n",
    "                    continue\n",
    "            \n",
    "            child.g = current_node.g + 1\n",
    "            # child.h = ((child.position[0] - end_node.position[0]) ** 2) + ((child.position[1] - end_node.position[1]) ** 2)\n",
    "            child.h = calculate_heuristic(child, end_node)\n",
    "            child.f = child.g + child.h\n",
    "\n",
    "            for open_node in openlist:\n",
    "                if child == open_node and child.g > open_node.g:\n",
    "                    continue\n",
    "\n",
    "            openlist.append(child)        "
   ]
  },
  {
   "cell_type": "code",
   "execution_count": 9,
   "metadata": {},
   "outputs": [
    {
     "name": "stdout",
     "output_type": "stream",
     "text": [
      "[(0, 0), (1, 1), (2, 2), (3, 3), (4, 3), (5, 4), (6, 5), (7, 6)]\n"
     ]
    }
   ],
   "source": [
    "# define Maze.\n",
    "maze = [[0, 0, 0, 0, 1, 0, 0, 0, 0, 0],\n",
    "        [0, 0, 0, 0, 1, 0, 0, 0, 0, 0],\n",
    "        [0, 0, 0, 0, 1, 0, 0, 0, 0, 0],\n",
    "        [0, 0, 0, 0, 1, 0, 0, 0, 0, 0],\n",
    "        [0, 0, 0, 0, 1, 0, 0, 0, 0, 0],\n",
    "        [0, 0, 0, 0, 0, 0, 0, 0, 0, 0],\n",
    "        [0, 0, 0, 0, 1, 0, 0, 0, 0, 0],\n",
    "        [0, 0, 0, 0, 1, 0, 0, 0, 0, 0],\n",
    "        [0, 0, 0, 0, 1, 0, 0, 0, 0, 0],\n",
    "        [0, 0, 0, 0, 0, 0, 0, 0, 0, 0]]\n",
    "\n",
    "start = (0, 0)\n",
    "end = (7, 6)\n",
    "\n",
    "path = astar(maze, start, end)\n",
    "print(path)\n"
   ]
  },
  {
   "cell_type": "code",
   "execution_count": null,
   "metadata": {},
   "outputs": [],
   "source": []
  },
  {
   "attachments": {},
   "cell_type": "markdown",
   "metadata": {},
   "source": [
    "## RRT"
   ]
  },
  {
   "cell_type": "code",
   "execution_count": null,
   "metadata": {},
   "outputs": [],
   "source": [
    "import random\n",
    "\n",
    "class RRT:\n",
    "    \"\"\"\n",
    "        Class for RRT Planning.\n",
    "    \n",
    "    \"\"\"\n",
    "\n",
    "    class AreaBounds:\n",
    "        def __init__(self, area):\n",
    "            self.xmin   = float(area[0])\n",
    "            self.xmax   = float(area[1])\n",
    "            self.ymin   = float(area[2])\n",
    "            self.ymax   = float(area[3])\n"
   ]
  },
  {
   "cell_type": "code",
   "execution_count": null,
   "metadata": {},
   "outputs": [],
   "source": [
    "class Node:\n",
    "    \"\"\"\n",
    "        RRT Node.\n",
    "    \"\"\"\n",
    "\n",
    "    def __init__(self, x, y):\n",
    "        self.x  = x\n",
    "        self.y  = y\n",
    "        self.path_x = []\n",
    "        self.path_y = []\n",
    "        self.parent = None\n",
    "\n"
   ]
  },
  {
   "cell_type": "code",
   "execution_count": null,
   "metadata": {},
   "outputs": [],
   "source": [
    "goal_sample_rate = 5\n",
    "\n",
    "def get_random_node():\n",
    "    if random.randint(0, 100) > goal_sample_rate:\n",
    "        random_node = "
   ]
  },
  {
   "attachments": {},
   "cell_type": "markdown",
   "metadata": {},
   "source": [
    "## RRT-Star"
   ]
  },
  {
   "cell_type": "code",
   "execution_count": null,
   "metadata": {},
   "outputs": [],
   "source": []
  }
 ],
 "metadata": {
  "kernelspec": {
   "display_name": "Python 3.8.10 64-bit",
   "language": "python",
   "name": "python3"
  },
  "language_info": {
   "codemirror_mode": {
    "name": "ipython",
    "version": 3
   },
   "file_extension": ".py",
   "mimetype": "text/x-python",
   "name": "python",
   "nbconvert_exporter": "python",
   "pygments_lexer": "ipython3",
   "version": "3.8.10"
  },
  "orig_nbformat": 4,
  "vscode": {
   "interpreter": {
    "hash": "e7370f93d1d0cde622a1f8e1c04877d8463912d04d973331ad4851f04de6915a"
   }
  }
 },
 "nbformat": 4,
 "nbformat_minor": 2
}
