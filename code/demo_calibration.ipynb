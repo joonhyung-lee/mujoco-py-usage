{
 "cells": [
  {
   "cell_type": "markdown",
   "metadata": {},
   "source": [
    "### Reference about the paper `Robot Sensor Calibration: Solving AX = XB on the Euclidean Group`\n",
    "### Example python code of upper paper."
   ]
  },
  {
   "cell_type": "code",
   "execution_count": 6,
   "metadata": {},
   "outputs": [],
   "source": [
    "import numpy as np\n",
    "import scipy\n",
    "\n",
    "A1 = np.array([[-0.989992,    -0.141120,  0.000,  0.0],\n",
    "                [0.141120,      -0.989992,  0.000,  0.0],\n",
    "                [0.000000,      0.0000000,  1.000,    0],\n",
    "                [0       ,              0,      0,    1]])\n",
    "\n",
    "B1 = np.array([[-0.989992, -0.138307, 0.028036, -26.9559],\n",
    "                 [0.138307 , -0.911449, 0.387470, -96.1332],\n",
    "                 [-0.028036 ,  0.387470, 0.921456, 19.4872],\n",
    "                 [0        ,        0,     0, 1]])\n",
    "\n",
    "A2 = np.array([[0.07073, 0.000000, 0.997495, -400.000],\n",
    "                [0.000000, 1.000000, 0.000000, 0.000000],\n",
    "                [-0.997495, 0.000000, 0.070737, 400.000],\n",
    "                [0, 0, 0,1]])\n",
    "\n",
    "B2 = np.array([[ 0.070737, 0.198172, 0.997612, -309.543],\n",
    "                [-0.198172, 0.963323, -0.180936, 59.0244],\n",
    "                [-0.977612, -0.180936, 0.107415, 291.177],\n",
    "                [0, 0, 0, 1]])"
   ]
  },
  {
   "cell_type": "markdown",
   "metadata": {},
   "source": [
    "### Convert SO(3) to Lie Group Theta"
   ]
  },
  {
   "cell_type": "code",
   "execution_count": 7,
   "metadata": {},
   "outputs": [],
   "source": [
    "def log_group_skew(T):\n",
    "    \"\"\"\n",
    "        Convert to Log matrix form. Return skew matrix form.\n",
    "        This is code of Lemma 2.\n",
    "    \"\"\"\n",
    "    R = T[0:3, 0:3] # Rotation matrix\n",
    "    # Lemma 2\n",
    "    theta = np.arccos((np.trace(R) - 1)/2)\n",
    "\n",
    "    logr = np.array([R[2,1] - R[1,2], R[0,2] - R[2,0], R[1,0] - R[0,1]]) * theta / (2*np.sin(theta))\n",
    "    return logr # return skew matrix form\n",
    "\n",
    "def log_group_matrix(T):\n",
    "    \"\"\"\n",
    "        Convert to Log matrix form. Return 3x3 matrix form.\n",
    "        This is code of Lemma 2.\n",
    "    \"\"\"\n",
    "    R = T[0:3, 0:3] # Rotation matrix\n",
    "    # Lemma 2\n",
    "    theta = np.arccos((np.trace(R) - 1)/2)\n",
    "\n",
    "    theta_ = R - R.T\n",
    "    log_r = theta_ * theta / (2*np.sin(theta))\n",
    "    return log_r\n",
    "\n",
    "A1_log = log_group_skew(A1)\n",
    "A2_log = log_group_skew(A2)\n",
    "B1_log = log_group_skew(B1)\n",
    "B2_log = log_group_skew(B2)\n",
    "\n",
    "A1_log_matrix = log_group_matrix(A1)\n",
    "A2_log_matrix = log_group_matrix(A2)\n",
    "B1_log_matrix = log_group_matrix(B1)\n",
    "B2_log_matrix = log_group_matrix(B2)"
   ]
  },
  {
   "cell_type": "code",
   "execution_count": 3,
   "metadata": {},
   "outputs": [
    {
     "name": "stdout",
     "output_type": "stream",
     "text": [
      "[0.         0.         2.99992225]\n",
      "[0.         1.50000334 0.        ]\n",
      "[0.         0.59600347 2.94020018]\n",
      "[ 0.          1.48513803 -0.29800445]\n",
      "\n",
      "[[ 0.         -2.99992225  0.        ]\n",
      " [ 2.99992225  0.          0.        ]\n",
      " [ 0.          0.          0.        ]]\n",
      "[[ 0.          0.          1.50000334]\n",
      " [ 0.          0.          0.        ]\n",
      " [-1.50000334  0.          0.        ]]\n",
      "[[ 0.         -2.94020018  0.59600347]\n",
      " [ 2.94020018  0.          0.        ]\n",
      " [-0.59600347  0.          0.        ]]\n",
      "[[ 0.          0.29800445  1.48513803]\n",
      " [-0.29800445  0.          0.        ]\n",
      " [-1.48513803  0.          0.        ]]\n"
     ]
    }
   ],
   "source": [
    "print(A1_log)\n",
    "print(A2_log)\n",
    "print(B1_log)\n",
    "print(B2_log)\n",
    "print()\n",
    "print(A1_log_matrix)\n",
    "print(A2_log_matrix)\n",
    "print(B1_log_matrix)\n",
    "print(B2_log_matrix)"
   ]
  },
  {
   "cell_type": "markdown",
   "metadata": {},
   "source": [
    "### Calibrate two equations"
   ]
  },
  {
   "cell_type": "code",
   "execution_count": 8,
   "metadata": {},
   "outputs": [],
   "source": [
    "def calibrate(A, B):\n",
    "    \"\"\"\n",
    "        Solve AX=XB calibration.\n",
    "    \"\"\"\n",
    "\n",
    "    data_num = len(A)\n",
    "    \n",
    "    M = np.zeros((3,3))\n",
    "    C = np.zeros((3*data_num, 3))\n",
    "    d = np.zeros((3*data_num, 1))\n",
    "\n",
    "    # columns of matrix A, B\n",
    "    alpha = log_group_skew(A[0])     # 3 x 1\n",
    "    beta = log_group_skew(B[0])      # 3 x 1\n",
    "    alpha_2 = log_group_skew(A[1]) # 3 x 1\n",
    "    beta_2 = log_group_skew(B[1])  # 3 x 1\n",
    "    alpha_3 = np.cross(alpha, alpha_2)  # 3 x 1\n",
    "    beta_3 = np.cross(beta, beta_2)     # 3 x 1\n",
    "\n",
    "    # print(alpha)\n",
    "    # print(alpha_2)\n",
    "    # print(beta)\n",
    "    # print(beta_2)\n",
    "    # assert np.array_equal(np.cross(alpha, alpha_2), np.zeros(3)) \n",
    "    # assert np.array_equal(np.cross(beta, beta_2), np.zeros(3))\n",
    "\n",
    "    # M = \\Sigma (beta * alpha.T)\n",
    "    M1 = np.dot(beta.reshape(3,1),alpha.reshape(3,1).T)\n",
    "    M2 = np.dot(beta_2.reshape(3,1),alpha_2.reshape(3,1).T)\n",
    "    M3 = np.dot(beta_3.reshape(3,1),alpha_3.reshape(3,1).T)\n",
    "    M = M1+M2+M3\n",
    "\n",
    "    # theta_x = (M.T * M)^(-1/2) * M.T    \n",
    "    # theta_x = np.dot(np.sqrt(np.linalg.inv((np.dot(M.T, M)))), M.T)\n",
    "    # RuntimeWarning: invalid value encountered in sqrt: np.sqrt results nan values\n",
    "    theta_x = np.dot(scipy.linalg.sqrtm(np.linalg.inv((np.dot(M.T, M)))), M.T)  # rotational info\n",
    "\n",
    "    # A_ = np.array([alpha, alpha_2, alpha_3])\n",
    "    # B_ = np.array([beta, beta_2, beta_3])\n",
    "    # B_inv = np.linalg.inv(B_)\n",
    "    # theta_x = A * B_inv\n",
    "\n",
    "    for i in range(data_num):\n",
    "        A_rot   = A[i][0:3,0:3]\n",
    "        A_trans = A[i][0:3, 3]\n",
    "        B_rot   = B[i][0:3,0:3]\n",
    "        B_trans = B[i][0:3, 3]\n",
    "        \n",
    "        C[3*i:3*i+3, :] = np.eye(3) - A_rot\n",
    "        d[3*i:3*i+3, 0] = A_trans - np.dot(theta_x, B_trans)\n",
    "\n",
    "\n",
    "    b_x = np.dot(np.linalg.inv(np.dot(C.T, C)), np.dot(C.T, d))     # translational info\n",
    "\n",
    "    return theta_x, b_x"
   ]
  },
  {
   "cell_type": "code",
   "execution_count": 43,
   "metadata": {},
   "outputs": [
    {
     "data": {
      "text/plain": [
       "array([[ 1.        ,  0.        ,  0.        ,  9.99989033],\n",
       "       [ 0.        ,  0.98014571, -0.19827854, 50.00001805],\n",
       "       [ 0.        ,  0.19827854,  0.98014571, 99.99990214]])"
      ]
     },
     "execution_count": 43,
     "metadata": {},
     "output_type": "execute_result"
    }
   ],
   "source": [
    "A = [A1, A2]\n",
    "B = [B1, B2]\n",
    "\n",
    "theta_x, b_x = calibrate(A, B)\n",
    "cali_ = np.append(theta_x, b_x, axis=1)\n",
    "cali_"
   ]
  },
  {
   "attachments": {},
   "cell_type": "markdown",
   "metadata": {},
   "source": [
    "# Load the data"
   ]
  },
  {
   "cell_type": "code",
   "execution_count": 9,
   "metadata": {},
   "outputs": [
    {
     "name": "stdout",
     "output_type": "stream",
     "text": [
      "10\n"
     ]
    }
   ],
   "source": [
    "import numpy as np\n",
    "from util import *\n",
    "\n",
    "A = np.load(\"./data/A_matrix-3.npy\")\n",
    "B = np.load(\"./data/B_matrix-3.npy\")\n",
    "\n",
    "print(len(A))"
   ]
  },
  {
   "cell_type": "code",
   "execution_count": 11,
   "metadata": {},
   "outputs": [
    {
     "name": "stdout",
     "output_type": "stream",
     "text": [
      "[ -72.53986096   11.84439376 -135.33739758]\n",
      "[ -46.03299202   12.20338428 -135.48483795]\n",
      "[ -93.93426915   12.1705647  -135.0752916 ]\n",
      "[  68.9414419    13.86967172 -134.9473419 ]\n",
      "[  65.49051498   14.26110322 -134.97554802]\n",
      "[ -88.50752629   13.92603322 -135.01285659]\n",
      "[  57.62896652   15.38502297 -135.05898894]\n",
      "[ -91.68360605   15.07579257 -134.97029756]\n",
      "[  77.30012675   16.6177148  -134.92315774]\n"
     ]
    }
   ],
   "source": [
    "cali_list = []\n",
    "\n",
    "for i in range(len(A)-1):\n",
    "    A_list = [A[i], A[i+1]]\n",
    "    B_list = [B[i], B[i+1]]\n",
    "\n",
    "    theta_x, b_x = calibrate(A_list, B_list)\n",
    "    print(np.degrees(r2rpy(theta_x)))\n",
    "    # print(b_x.ravel())\n",
    "    cali_ = np.append(theta_x, b_x, axis=1)\n",
    "    cali_list.append(cali_)\n"
   ]
  },
  {
   "cell_type": "code",
   "execution_count": 12,
   "metadata": {},
   "outputs": [],
   "source": [
    "theta_x, b_x = calibrate(A, B)\n"
   ]
  },
  {
   "cell_type": "code",
   "execution_count": 13,
   "metadata": {},
   "outputs": [
    {
     "name": "stdout",
     "output_type": "stream",
     "text": [
      "[ -72.53986096   11.84439376 -135.33739758]\n",
      "[0.29324188 0.12932087 0.12916188]\n"
     ]
    }
   ],
   "source": [
    "print(np.degrees(r2rpy(theta_x)))\n",
    "print(b_x.ravel())"
   ]
  },
  {
   "cell_type": "code",
   "execution_count": null,
   "metadata": {},
   "outputs": [],
   "source": []
  }
 ],
 "metadata": {
  "kernelspec": {
   "display_name": "Python 3",
   "language": "python",
   "name": "python3"
  },
  "language_info": {
   "codemirror_mode": {
    "name": "ipython",
    "version": 3
   },
   "file_extension": ".py",
   "mimetype": "text/x-python",
   "name": "python",
   "nbconvert_exporter": "python",
   "pygments_lexer": "ipython3",
   "version": "3.8.10 (default, Nov 14 2022, 12:59:47) \n[GCC 9.4.0]"
  },
  "orig_nbformat": 4,
  "vscode": {
   "interpreter": {
    "hash": "e7370f93d1d0cde622a1f8e1c04877d8463912d04d973331ad4851f04de6915a"
   }
  }
 },
 "nbformat": 4,
 "nbformat_minor": 2
}
