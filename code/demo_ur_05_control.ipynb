{
 "cells": [
  {
   "cell_type": "code",
   "execution_count": 1,
   "metadata": {},
   "outputs": [
    {
     "name": "stdout",
     "output_type": "stream",
     "text": [
      "Done.\n",
      "Ready.\n"
     ]
    }
   ],
   "source": [
    "import numpy as np\n",
    "import matplotlib.pyplot as plt\n",
    "from mujoco_parser import MuJoCoParserClass,set_env_joint_configuration,get_env_joint_names,print_env_joint_infos\n",
    "from pid import PID_ControllerClass\n",
    "np.set_printoptions(precision=2)\n",
    "plt.rc('xtick',labelsize=6); plt.rc('ytick',labelsize=6)\n",
    "%config InlineBackend.figure_format = 'retina'\n",
    "%matplotlib inline\n",
    "print (\"Ready.\")"
   ]
  },
  {
   "cell_type": "markdown",
   "metadata": {},
   "source": [
    "### Parsing `UR5e`"
   ]
  },
  {
   "cell_type": "code",
   "execution_count": 2,
   "metadata": {},
   "outputs": [
    {
     "name": "stdout",
     "output_type": "stream",
     "text": [
      "[UR5e] parsed.\n"
     ]
    }
   ],
   "source": [
    "env = MuJoCoParserClass(name='UR5e',xml_path='../asset/ur5e/UR5_rg2_gripper.xml')\n",
    "print (\"[%s] parsed.\"%(env.name))"
   ]
  },
  {
   "cell_type": "markdown",
   "metadata": {},
   "source": [
    "### Get / Set `Configuration`"
   ]
  },
  {
   "cell_type": "code",
   "execution_count": 3,
   "metadata": {},
   "outputs": [
    {
     "name": "stdout",
     "output_type": "stream",
     "text": [
      "['ur_shoulder_pan_joint', 'ur_shoulder_lift_joint', 'ur_elbow_joint', 'ur_wrist_1_joint', 'ur_wrist_2_joint', 'ur_wrist_3_joint']\n",
      "\n",
      "[0/6] joint_name:[ur_shoulder_pan_joint]\n",
      "[0/6] joint_configurations:[-1.571]\n",
      "[1/6] joint_name:[ur_shoulder_lift_joint]\n",
      "[1/6] joint_configurations:[-2.356]\n",
      "[2/6] joint_name:[ur_elbow_joint]\n",
      "[2/6] joint_configurations:[2.356]\n",
      "[3/6] joint_name:[ur_wrist_1_joint]\n",
      "[3/6] joint_configurations:[1.571]\n",
      "[4/6] joint_name:[ur_wrist_2_joint]\n",
      "[4/6] joint_configurations:[0.785]\n",
      "[5/6] joint_name:[ur_wrist_3_joint]\n",
      "[5/6] joint_configurations:[-1.571]\n"
     ]
    }
   ],
   "source": [
    "import math\n",
    "\n",
    "init_configurations = [-math.pi/2, -3*math.pi/4, 3*math.pi/4, math.pi/2, math.pi/4, -math.pi/2 ]\n",
    "\n",
    "joint_names = get_env_joint_names(env,prefix='ur_') # available objects\n",
    "print(joint_names)\n",
    "print()\n",
    "set_env_joint_configuration(env, init_configurations, prefix='ur_')\n",
    "print_env_joint_infos(env, prefix='ur_')\n"
   ]
  },
  {
   "cell_type": "markdown",
   "metadata": {},
   "source": [
    "### Get camera informations"
   ]
  },
  {
   "cell_type": "code",
   "execution_count": 4,
   "metadata": {},
   "outputs": [
    {
     "data": {
      "text/plain": [
       "{'cam_distance': 0.0,\n",
       " 'cam_azimuth': 0.0,\n",
       " 'cam_elevation': -90.0,\n",
       " 'cam_lookat': array([1.4, 0. , 4. ])}"
      ]
     },
     "execution_count": 4,
     "metadata": {},
     "output_type": "execute_result"
    }
   ],
   "source": [
    "cam_infos = env.set_cam_infos(cam_distance  = 0.0,\n",
    "                    cam_azimuth   = 0.0,\n",
    "                    cam_elevation = -90.0,\n",
    "                    cam_lookat    = [1.4,0.0,4.0])\n",
    "cam_infos"
   ]
  },
  {
   "cell_type": "code",
   "execution_count": 20,
   "metadata": {},
   "outputs": [
    {
     "name": "stdout",
     "output_type": "stream",
     "text": [
      "[0/6] joint_address:[73]\n",
      "[0/6] joint_name:[ur_shoulder_pan_joint]\n",
      "[0/6] joint_configurations:[-1.571]\n",
      "[1/6] joint_address:[74]\n",
      "[1/6] joint_name:[ur_shoulder_lift_joint]\n",
      "[1/6] joint_configurations:[-2.356]\n",
      "[2/6] joint_address:[75]\n",
      "[2/6] joint_name:[ur_elbow_joint]\n",
      "[2/6] joint_configurations:[2.356]\n",
      "[3/6] joint_address:[76]\n",
      "[3/6] joint_name:[ur_wrist_1_joint]\n",
      "[3/6] joint_configurations:[1.571]\n",
      "[4/6] joint_address:[77]\n",
      "[4/6] joint_name:[ur_wrist_2_joint]\n",
      "[4/6] joint_configurations:[0.785]\n",
      "[5/6] joint_address:[78]\n",
      "[5/6] joint_name:[ur_wrist_3_joint]\n",
      "[5/6] joint_configurations:[-1.571]\n"
     ]
    }
   ],
   "source": [
    "for joint_idx,joint_name in enumerate(joint_names):\n",
    "    qpos_addr = env.sim.model.get_joint_qpos_addr(joint_name)\n",
    "    print(\"[%d/%d] joint_address:[%s]\"%(joint_idx,len(joint_names),qpos_addr))\n",
    "    print (\"[%d/%d] joint_name:[%s]\"%(joint_idx,len(joint_names),joint_name))\n",
    "    print (\"[%d/%d] joint_configurations:[%0.3f]\"%(joint_idx,len(joint_names),env.sim.data.qpos[qpos_addr]))    \n"
   ]
  },
  {
   "cell_type": "code",
   "execution_count": 10,
   "metadata": {},
   "outputs": [
    {
     "data": {
      "text/plain": [
       "['ur_shoulder_pan_joint',\n",
       " 'ur_shoulder_lift_joint',\n",
       " 'ur_elbow_joint',\n",
       " 'ur_wrist_1_joint',\n",
       " 'ur_wrist_2_joint',\n",
       " 'ur_wrist_3_joint']"
      ]
     },
     "execution_count": 10,
     "metadata": {},
     "output_type": "execute_result"
    }
   ],
   "source": [
    "joint_names = [x for x in env.joint_names if x[:len(\"ur_\")]==\"ur_\"]\n",
    "joint_names"
   ]
  },
  {
   "cell_type": "code",
   "execution_count": 21,
   "metadata": {},
   "outputs": [
    {
     "name": "stdout",
     "output_type": "stream",
     "text": [
      "[0/6] joint_name:[ur_shoulder_pan_joint]\n",
      "[0/6] joint_configurations:[-1.571]\n",
      "[1/6] joint_name:[ur_shoulder_lift_joint]\n",
      "[1/6] joint_configurations:[-2.356]\n",
      "[2/6] joint_name:[ur_elbow_joint]\n",
      "[2/6] joint_configurations:[2.356]\n",
      "[3/6] joint_name:[ur_wrist_1_joint]\n",
      "[3/6] joint_configurations:[1.571]\n",
      "[4/6] joint_name:[ur_wrist_2_joint]\n",
      "[4/6] joint_configurations:[0.785]\n",
      "[5/6] joint_name:[ur_wrist_3_joint]\n",
      "[5/6] joint_configurations:[-1.571]\n"
     ]
    }
   ],
   "source": [
    "width = 1500\n",
    "height = 1000\n",
    "\n",
    "\n",
    "cam_infos = env.set_cam_infos(cam_distance  = 0.0,\n",
    "                    cam_azimuth   = 0.0,\n",
    "                    cam_elevation = -60.0,\n",
    "                    cam_lookat    = [0.0,0.0,1.5])\n",
    "\n",
    "init_configurations = [-math.pi/2, -3*math.pi/4, 3*math.pi/4, math.pi/2, math.pi/4, -math.pi/2 ]\n",
    "set_env_joint_configuration(env, init_configurations, prefix='ur_')\n",
    "print_env_joint_infos(env, prefix='ur_')\n",
    "\n",
    "for _ in range(2):\n",
    "    img = env.render_scene(mode='rgb_array', cam_infos=cam_infos, width=width, height=height, depth_toggle=False, camera_name=\"track\")\n",
    "    img_depth = env.render_scene(mode='rgb_array', cam_infos=cam_infos, width=width, height=height, depth_toggle=True, camera_name=\"track\")\n",
    "    img_real = env.depth_2_meters(img_depth)\n",
    "\n",
    "plt.imshow(img); plt.axis('off')\n",
    "plt.title(\"RGB Image\")\n",
    "plt.show()\n",
    "\n",
    "plt.imshow(img_depth); plt.axis('off')\n",
    "plt.title(\"Depth Image\")\n",
    "plt.colorbar()\n",
    "plt.show()\n",
    "\n",
    "plt.imshow(img_real); plt.axis('off')\n",
    "plt.title(\"Real depth Image\")\n",
    "plt.colorbar()\n",
    "plt.show()"
   ]
  },
  {
   "cell_type": "markdown",
   "metadata": {},
   "source": [
    "### etc"
   ]
  },
  {
   "cell_type": "code",
   "execution_count": null,
   "metadata": {},
   "outputs": [],
   "source": [
    "t = 0\n",
    "\n",
    "while True:\n",
    "    # env.sim.data.ctrl[0] = math.cos(t / 10.) * 0.01\n",
    "    # env.sim.data.ctrl[1] = math.sin(t / 10.) * 0.01\n",
    "    res = env.sim.render(255, 255, camera_name=\"ee-follower\")\n",
    "    print(type(res), res.shape)\n",
    "    env.sim.step()\n",
    "\n",
    "    t += 1\n",
    "    # viewer.render()\n",
    "    if t > 10:\n",
    "        break"
   ]
  }
 ],
 "metadata": {
  "kernelspec": {
   "display_name": "Python 3.8.10 64-bit",
   "language": "python",
   "name": "python3"
  },
  "language_info": {
   "codemirror_mode": {
    "name": "ipython",
    "version": 3
   },
   "file_extension": ".py",
   "mimetype": "text/x-python",
   "name": "python",
   "nbconvert_exporter": "python",
   "pygments_lexer": "ipython3",
   "version": "3.8.10 (default, Nov 14 2022, 12:59:47) \n[GCC 9.4.0]"
  },
  "orig_nbformat": 4,
  "vscode": {
   "interpreter": {
    "hash": "e7370f93d1d0cde622a1f8e1c04877d8463912d04d973331ad4851f04de6915a"
   }
  }
 },
 "nbformat": 4,
 "nbformat_minor": 2
}
